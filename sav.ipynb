{
 "metadata": {
  "language_info": {
   "codemirror_mode": {
    "name": "ipython",
    "version": 3
   },
   "file_extension": ".py",
   "mimetype": "text/x-python",
   "name": "python",
   "nbconvert_exporter": "python",
   "pygments_lexer": "ipython3",
   "version": "3.6.9-final"
  },
  "orig_nbformat": 2,
  "kernelspec": {
   "name": "python3",
   "display_name": "Python 3"
  }
 },
 "nbformat": 4,
 "nbformat_minor": 2,
 "cells": [
  {
   "cell_type": "code",
   "execution_count": 1,
   "metadata": {},
   "outputs": [
    {
     "output_type": "error",
     "ename": "ModuleNotFoundError",
     "evalue": "No module named 'rpy2'",
     "traceback": [
      "\u001b[0;31m---------------------------------------------------------------------------\u001b[0m",
      "\u001b[0;31mModuleNotFoundError\u001b[0m                       Traceback (most recent call last)",
      "\u001b[0;32m<ipython-input-1-612fb1932cd1>\u001b[0m in \u001b[0;36m<module>\u001b[0;34m\u001b[0m\n\u001b[0;32m----> 1\u001b[0;31m \u001b[0;32mfrom\u001b[0m \u001b[0mrpy2\u001b[0m\u001b[0;34m.\u001b[0m\u001b[0mrobjects\u001b[0m \u001b[0;32mimport\u001b[0m \u001b[0mpandas2ri\u001b[0m\u001b[0;34m\u001b[0m\u001b[0;34m\u001b[0m\u001b[0m\n\u001b[0m\u001b[1;32m      2\u001b[0m \u001b[0;32mfrom\u001b[0m \u001b[0mrpy2\u001b[0m\u001b[0;34m.\u001b[0m\u001b[0mrobjects\u001b[0m \u001b[0;32mimport\u001b[0m \u001b[0mr\u001b[0m\u001b[0;34m\u001b[0m\u001b[0;34m\u001b[0m\u001b[0m\n\u001b[1;32m      3\u001b[0m \u001b[0;32mfrom\u001b[0m \u001b[0mpathlib\u001b[0m \u001b[0;32mimport\u001b[0m \u001b[0mPath\u001b[0m\u001b[0;34m\u001b[0m\u001b[0;34m\u001b[0m\u001b[0m\n\u001b[1;32m      4\u001b[0m \u001b[0;32mimport\u001b[0m \u001b[0mpyreadstat\u001b[0m\u001b[0;34m\u001b[0m\u001b[0;34m\u001b[0m\u001b[0m\n\u001b[1;32m      5\u001b[0m \u001b[0mpandas2ri\u001b[0m\u001b[0;34m.\u001b[0m\u001b[0mactivate\u001b[0m\u001b[0;34m(\u001b[0m\u001b[0;34m)\u001b[0m\u001b[0;34m\u001b[0m\u001b[0;34m\u001b[0m\u001b[0m\n",
      "\u001b[0;31mModuleNotFoundError\u001b[0m: No module named 'rpy2'"
     ]
    }
   ],
   "source": []
  },
  {
   "cell_type": "code",
   "execution_count": 2,
   "metadata": {},
   "outputs": [
    {
     "output_type": "stream",
     "name": "stdout",
     "text": [
      "Defaulting to user installation because normal site-packages is not writeable\n",
      "Collecting rpy2\n",
      "  Downloading rpy2-3.3.6.tar.gz (179 kB)\n",
      "\u001b[K     |████████████████████████████████| 179 kB 522 kB/s \n",
      "\u001b[?25hCollecting pytest\n",
      "  Downloading pytest-6.1.2-py3-none-any.whl (272 kB)\n",
      "\u001b[K     |████████████████████████████████| 272 kB 525 kB/s \n",
      "\u001b[?25hRequirement already satisfied: jinja2 in /home/pavan/.local/lib/python3.6/site-packages (from rpy2) (2.11.2)\n",
      "Requirement already satisfied: pytz in /home/pavan/.local/lib/python3.6/site-packages (from rpy2) (2019.3)\n",
      "Collecting tzlocal\n",
      "  Downloading tzlocal-2.1-py2.py3-none-any.whl (16 kB)\n",
      "Collecting cffi>=1.10.0\n",
      "  Using cached cffi-1.14.4-cp36-cp36m-manylinux1_x86_64.whl (401 kB)\n",
      "Collecting pluggy<1.0,>=0.12\n",
      "  Downloading pluggy-0.13.1-py2.py3-none-any.whl (18 kB)\n",
      "Requirement already satisfied: attrs>=17.4.0 in /home/pavan/.local/lib/python3.6/site-packages (from pytest->rpy2) (19.3.0)\n",
      "Collecting iniconfig\n",
      "  Downloading iniconfig-1.1.1-py2.py3-none-any.whl (5.0 kB)\n",
      "Collecting py>=1.8.2\n",
      "  Downloading py-1.9.0-py2.py3-none-any.whl (99 kB)\n",
      "\u001b[K     |████████████████████████████████| 99 kB 124 kB/s \n",
      "\u001b[?25hRequirement already satisfied: toml in /home/pavan/.local/lib/python3.6/site-packages (from pytest->rpy2) (0.10.2)\n",
      "Requirement already satisfied: packaging in /home/pavan/.local/lib/python3.6/site-packages (from pytest->rpy2) (20.4)\n",
      "Requirement already satisfied: importlib-metadata>=0.12; python_version < \"3.8\" in /home/pavan/.local/lib/python3.6/site-packages (from pytest->rpy2) (1.6.0)\n",
      "Requirement already satisfied: MarkupSafe>=0.23 in /usr/lib/python3/dist-packages (from jinja2->rpy2) (1.0)\n",
      "Collecting pycparser\n",
      "  Using cached pycparser-2.20-py2.py3-none-any.whl (112 kB)\n",
      "Requirement already satisfied: pyparsing>=2.0.2 in /home/pavan/.local/lib/python3.6/site-packages (from packaging->pytest->rpy2) (2.4.7)\n",
      "Requirement already satisfied: six in /home/pavan/.local/lib/python3.6/site-packages (from packaging->pytest->rpy2) (1.14.0)\n",
      "Requirement already satisfied: zipp>=0.5 in /home/pavan/.local/lib/python3.6/site-packages (from importlib-metadata>=0.12; python_version < \"3.8\"->pytest->rpy2) (3.1.0)\n",
      "Building wheels for collected packages: rpy2\n",
      "  Building wheel for rpy2 (setup.py) ... \u001b[?25ldone\n",
      "\u001b[?25h  Created wheel for rpy2: filename=rpy2-3.3.6-cp36-cp36m-linux_x86_64.whl size=274625 sha256=3daace0a69c7d030191ba8255cc78bcf5cf78860a64393ed96ac31d76420696b\n",
      "  Stored in directory: /home/pavan/.cache/pip/wheels/75/be/18/cdcd9f9194655825b53176188ea114ba5018f368d0488a564c\n",
      "Successfully built rpy2\n",
      "Installing collected packages: pluggy, iniconfig, py, pytest, tzlocal, pycparser, cffi, rpy2\n",
      "Successfully installed cffi-1.14.4 iniconfig-1.1.1 pluggy-0.13.1 py-1.9.0 pycparser-2.20 pytest-6.1.2 rpy2-3.3.6 tzlocal-2.1\n",
      "\u001b[33mWARNING: You are using pip version 20.2.4; however, version 20.3.1 is available.\n",
      "You should consider upgrading via the '/usr/bin/python3 -m pip install --upgrade pip' command.\u001b[0m\n",
      "Note: you may need to restart the kernel to use updated packages.\n"
     ]
    }
   ],
   "source": [
    "pip install rpy2"
   ]
  },
  {
   "cell_type": "code",
   "execution_count": 4,
   "metadata": {},
   "outputs": [
    {
     "output_type": "stream",
     "name": "stdout",
     "text": [
      "Defaulting to user installation because normal site-packages is not writeable\n",
      "Collecting pyreadstat\n",
      "  Downloading pyreadstat-1.0.5-cp36-cp36m-manylinux1_x86_64.whl (2.0 MB)\n",
      "\u001b[K     |████████████████████████████████| 2.0 MB 188 kB/s \n",
      "\u001b[?25hRequirement already satisfied: pandas>0.24.0 in /home/pavan/.local/lib/python3.6/site-packages (from pyreadstat) (0.25.3)\n",
      "Requirement already satisfied: python-dateutil>=2.6.1 in /home/pavan/.local/lib/python3.6/site-packages (from pandas>0.24.0->pyreadstat) (2.7.5)\n",
      "Requirement already satisfied: pytz>=2017.2 in /home/pavan/.local/lib/python3.6/site-packages (from pandas>0.24.0->pyreadstat) (2019.3)\n",
      "Requirement already satisfied: numpy>=1.13.3 in /home/pavan/.local/lib/python3.6/site-packages (from pandas>0.24.0->pyreadstat) (1.17.4)\n",
      "Requirement already satisfied: six>=1.5 in /home/pavan/.local/lib/python3.6/site-packages (from python-dateutil>=2.6.1->pandas>0.24.0->pyreadstat) (1.14.0)\n",
      "Installing collected packages: pyreadstat\n",
      "Successfully installed pyreadstat-1.0.5\n",
      "\u001b[33mWARNING: You are using pip version 20.2.4; however, version 20.3.1 is available.\n",
      "You should consider upgrading via the '/usr/bin/python3 -m pip install --upgrade pip' command.\u001b[0m\n",
      "Note: you may need to restart the kernel to use updated packages.\n"
     ]
    }
   ],
   "source": [
    "pip install pyreadstat"
   ]
  },
  {
   "cell_type": "code",
   "execution_count": 5,
   "metadata": {},
   "outputs": [],
   "source": [
    "from rpy2.robjects import pandas2ri\n",
    "from rpy2.robjects import r\n",
    "from pathlib import Path\n",
    "import pyreadstat\n",
    "pandas2ri.activate()"
   ]
  },
  {
   "cell_type": "code",
   "execution_count": null,
   "metadata": {},
   "outputs": [],
   "source": [
    "meta = pyreadstat.read_sav(final_model.sav, metadataonly=True)\n",
    "    cols = [x for x in meta[0]]\n",
    "    df, meta = pyreadstat.read_sav(final_model.sav, usecols=cols)\n",
    "    print(df)"
   ]
  }
 ]
}